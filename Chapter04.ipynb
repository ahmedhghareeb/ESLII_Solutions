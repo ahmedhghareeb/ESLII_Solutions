{
 "cells": [
  {
   "cell_type": "markdown",
   "metadata": {},
   "source": [
    "# Ex. 4.1\n",
    "\n",
    "This is a generalized Rayleigh Quotient. $\\mathbf{W}$ is the within-class covariance matrix so it is a Hermitian positive-definite matrix, almost surely. There is an unique Cholesky decomposition of  $\\mathbf{W}$:\n",
    "\n",
    "$$ \\mathbf{W} = \\mathbf{C}\\mathbf{C}^T, $$\n",
    "where $\\mathbf{C}$ is a lower triangular matrix.\n",
    "\n",
    "Let's denote, $\\mathbf{A}=\\mathbf{C}^{-1}B\\mathbf{C}^{-T}$, then the original problem becomes:\n",
    "\n",
    "\\begin{align*}\n",
    "\\mbox{max}\\quad & x^{T}\\mathbf{CAC}^{T}x\\\\\n",
    "\\mbox{subject to}\\quad & x^{T}\\mathbf{CC}^{T}x=1\n",
    "\\end{align*}\n",
    "\n",
    "If we define $y=\\mathbf{C}^{T}x$, the original problem becomes:\n",
    "\n",
    "\\begin{align*}\n",
    "\\mbox{max}\\quad & y^{T}\\mathbf{A}y\\\\\n",
    "\\mbox{subject to}\\quad & y^{T}y=1\n",
    "\\end{align*}\n",
    "\n",
    "This is an ordinary Rayleigh Quotient, and its maximum is the largest eigenvalue of $\\mathbf{A}$. The transfer is valid because $\\mathbf{C}$ is full rank and for any $y$ there exsit a unique $x$ such that $y=\\mathbf{C}^{T}x$. In summery, by using the Cholesky decomposition of $\\mathbf{W}$, we can transfer this problem to a standard eigenvalue problem."
   ]
  }
 ],
 "metadata": {
  "kernelspec": {
   "display_name": "Python 3",
   "language": "python",
   "name": "python3"
  },
  "language_info": {
   "codemirror_mode": {
    "name": "ipython",
    "version": 3
   },
   "file_extension": ".py",
   "mimetype": "text/x-python",
   "name": "python",
   "nbconvert_exporter": "python",
   "pygments_lexer": "ipython3",
   "version": "3.5.1"
  }
 },
 "nbformat": 4,
 "nbformat_minor": 0
}
