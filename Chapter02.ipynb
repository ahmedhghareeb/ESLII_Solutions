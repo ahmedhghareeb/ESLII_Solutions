{
 "cells": [
  {
   "cell_type": "markdown",
   "metadata": {},
   "source": [
    "# Ex. 2.1\n",
    "\n",
    "  First we need to assume that the norm here is Euclidean norm $||\\cdot||_2$, we also believe this is the case for any norm appearing in this book. The statement in this problem is true under Euclidean norm, but not necessarily true for other norms. Let's consider two vectors in $v_1, v_2 \\in \\mathbb{R}^2 $, where $ v_1 = [4,4]^T, v_2 = [6,1]^T $. We can see that:\n",
    "  \\begin{align*}\n",
    "  ||v_1||_1 >& \\,||v_2||_1 \\\\ \n",
    "  ||v_1||_2 <& \\,||v_2||_2 .\n",
    "  \\end{align*}\n",
    "\n",
    "  This indicates that for a given point, the nearest neighbor is not invariant with different choices of norms."
   ]
  }
 ],
 "metadata": {
  "kernelspec": {
   "display_name": "Python 3",
   "language": "python",
   "name": "python3"
  },
  "language_info": {
   "codemirror_mode": {
    "name": "ipython",
    "version": 3
   },
   "file_extension": ".py",
   "mimetype": "text/x-python",
   "name": "python",
   "nbconvert_exporter": "python",
   "pygments_lexer": "ipython3",
   "version": "3.5.1"
  }
 },
 "nbformat": 4,
 "nbformat_minor": 0
}
