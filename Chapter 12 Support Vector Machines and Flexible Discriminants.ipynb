{
 "cells": [
  {
   "cell_type": "markdown",
   "metadata": {},
   "source": [
    "# Ex. 12.1\n",
    "\n",
    "Let's define $f(x)=x_i^T\\beta+\\beta_0.$ Then 12.8 is:\n",
    "\n",
    "\\begin{align*}\n",
    "\\min_{\\beta,\\beta_{0},\\xi_{i}} & \\quad\\frac{1}{2}\\left\\Vert \\beta\\right\\Vert ^{2}+C\\sum_{i=1}^{N}\\xi_{i}\\\\\n",
    "\\mbox{subject to} & \\quad\\xi_{i}\\ge0,\\\\\n",
    " & \\quad1-y_{i}f(x_{i})\\le\\xi_{i}\\quad\\forall i\n",
    "\\end{align*}\n",
    "\n",
    "Setting $\\lambda=1/C$, 12.25 becomes:\n",
    "\n",
    "\\begin{align*}\n",
    "\\min_{\\beta,\\beta_{0}} & \\quad\\frac{1}{2}\\left\\Vert \\beta\\right\\Vert ^{2}+C\\sum_{i=1}^{N}\\left(1-y_{i}f(x_{i})\\right)^{+}\n",
    "\\end{align*}\n",
    "\n",
    "It is easily observed that the constraints in 12.8 is equivalent to:\n",
    "$$\\xi_{i}\\ge\\left(1-y_{i}f(x_{i})\\right)^{+}\\quad\\forall i.$$\n",
    "\n",
    "Next we show that 12.25 is the partial optimal solution after minimizing w.r.t. $\\xi_i$:\n",
    "\n",
    "Let $\\beta,\\beta_0$ be arbitrarily chosen and fixed. Let's try to minimize the objective by choosing the optimal $\\xi_i$. \n",
    "\n",
    "With $\\beta,\\beta_0$ fixed, the objective is only a function of $\\xi_i$ and we simply select the smallest possible $\\xi_i$ possible for each $i$: \n",
    "$$\\xi_{i} = \\left(1-y_{i}f(x_{i})\\right)^{+}.$$\n",
    "\n",
    "We update the objective with the optimal value of $C\\xi_i$ to obtain the desired result."
   ]
  }
 ],
 "metadata": {
  "kernelspec": {
   "display_name": "Python 3",
   "language": "python",
   "name": "python3"
  },
  "language_info": {
   "codemirror_mode": {
    "name": "ipython",
    "version": 3
   },
   "file_extension": ".py",
   "mimetype": "text/x-python",
   "name": "python",
   "nbconvert_exporter": "python",
   "pygments_lexer": "ipython3",
   "version": "3.5.1"
  }
 },
 "nbformat": 4,
 "nbformat_minor": 0
}
