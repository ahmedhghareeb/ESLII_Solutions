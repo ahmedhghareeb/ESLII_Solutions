{
 "cells": [
  {
   "cell_type": "markdown",
   "metadata": {},
   "source": [
    "# Ex. 7.4\n",
    "\n",
    "By definition, the expectation of optimism over training sets is:\n",
    "\n",
    "\\begin{align*}\n",
    "\\mathbb{E}_{\\mathbf{y}}\\left[\\mbox{Err}_{\\mbox{in}}-\\overline{\\mbox{err}}\\right] & =\\mathbb{E}_{\\mathbf{y}}\\left[\\mbox{Err}_{\\mbox{in}}\\right]-\\mathbb{E}_{\\mathbf{y}}\\left[\\overline{\\mbox{err}}\\right]\\\\\n",
    " & =\\frac{1}{N}\\sum_{i=1}^{N}\\left(\\mathbb{E}_{\\mathbf{y}}\\left[\\mathbb{E}_{\\mathbf{Y}^{o}}\\left(Y_{i}^{0}-\\hat{f}\\left(x_{i}\\right)\\right)^{2}-\\left(y_{i}-\\hat{f}\\left(x_{i}\\right)\\right)^{2}\\right]\\right)\\\\\n",
    " & =\\frac{1}{N}\\sum_{i=1}^{N}\\left(\\mathbb{E}_{\\mathbf{y}}\\mathbb{E}_{\\mathbf{Y}^{o}}\\left(\\mathbf{Y}_{i}^{0}-\\hat{f}\\left(x_{i}\\right)\\right)^{2}-\\mathbb{E}_{\\mathbf{y}}\\left(y_{i}-\\hat{f}\\left(x_{i}\\right)\\right)^{2}\\right)\n",
    "\\end{align*}\n",
    "\n",
    "Notice that $\\mathbf{Y}^0$ is another realization of $f(x)+\\varepsilon$, so it is independent of $\\mathbf{y}$, and thus $\\hat{f}(x)$, which is a linear function of $\\hat{f}(x)$.\n",
    "\n",
    "As a result, we have:\n",
    "\n",
    "\\begin{align*}\n",
    "\\mathbb{E}_{\\mathbf{y}}\\mathbb{E}_{\\mathbf{Y}^{o}}\\left(\\mathbf{Y}_{i}^{0}-\\hat{f}\\left(x_{i}\\right)\\right)^{2} & =\\mathbb{E}_{\\mathbf{y}}\\mathbb{E}_{\\mathbf{Y}^{o}}\\left[\\left(\\mathbf{Y}_{i}^{0}\\right)^{2}-2\\mathbf{Y}_{i}^{0}\\hat{f}\\left(x_{i}\\right)+\\hat{f}\\left(x_{i}\\right)^{2}\\right]\\\\\n",
    " & =\\mathbb{E}_{\\mathbf{Y}^{o}}\\left[\\left(\\mathbf{Y}_{i}^{0}\\right)^{2}\\right]-2\\mathbb{E}_{\\mathbf{y}}\\mathbb{E}_{\\mathbf{Y}^{o}}\\left[\\mathbf{Y}_{i}^{0}\\hat{f}\\left(x_{i}\\right)\\right]+\\mathbb{E}_{\\mathbf{y}}\\left[\\hat{f}\\left(x_{i}\\right)^{2}\\right].\n",
    "\\end{align*}\n",
    "\n",
    "At the same time:\n",
    "\n",
    "\\begin{align*}\n",
    "\\mathbb{E}_{\\mathbf{y}}\\left(y_{i}-\\hat{f}\\left(x_{i}\\right)\\right)^{2} & =\\mathbb{E}_{\\mathbf{y}}\\left[y_{i}^{2}-2y_{i}\\hat{f}\\left(x_{i}\\right)+\\hat{f}\\left(x_{i}\\right)^{2}\\right]\\\\\n",
    " & =\\mathbb{E}_{\\mathbf{y}}\\left[y_{i}^{2}\\right]-2\\mathbb{E}_{\\mathbf{y}}\\left[y_{i}\\hat{f}\\left(x_{i}\\right)\\right]+\\mathbb{E}_{\\mathbf{y}}\\left[\\hat{f}\\left(x_{i}\\right)^{2}\\right].\n",
    "\\end{align*}\n",
    "\n",
    "We also know that $y_i$ and $\\mathbf{Y}^0_i$ are iid, so $$\\mathbb{E}_{\\mathbf{Y}^{o}}\\left[\\left(\\mathbf{Y}_{i}^{0}\\right)^{2}\\right]=\\mathbb{E}_{\\mathbf{y}}\\left[y_{i}^{2}\\right].$$\n",
    "\n",
    "With all the above relations, and that $\\hat{y}_i=\\hat{f}(x_i)$, we can conclude that:\n",
    "\n",
    "\\begin{align*}\n",
    "\\mathbb{E}_{\\mathbf{y}}\\left[\\mbox{Err}_{\\mbox{in}}-\\overline{\\mbox{err}}\\right] & =\\mathbb{E}_{\\mathbf{y}}\\left[\\mbox{Err}_{\\mbox{in}}\\right]-\\mathbb{E}_{\\mathbf{y}}\\left[\\overline{\\mbox{err}}\\right]\\\\\n",
    " & =\\frac{2}{N}\\sum_{i=1}^{N}\\left(\\mathbb{E}_{\\mathbf{y}}\\left[y_{i}\\hat{f}\\left(x_{i}\\right)-\\mathbb{E}_{\\mathbf{Y}^{o}}\\left[\\mathbf{Y}_{i}^{0}\\hat{f}\\left(x_{i}\\right)\\right]\\right]\\right)\\\\\n",
    " & =\\frac{2}{N}\\sum_{i=1}^{N}\\left(\\mathbb{E}_{\\mathbf{y}}\\left[y_{i}\\hat{y_{i}}-\\mathbb{E}_{\\mathbf{y}}\\left[y_{i}\\right]\\hat{f}\\left(x_{i}\\right)\\right]\\right)\\\\\n",
    " & =\\frac{2}{N}\\sum_{i=1}^{N}\\left(\\mathbb{E}_{\\mathbf{y}}\\left[y_{i}\\hat{y_{i}}\\right]-\\mathbb{E}_{\\mathbf{y}}\\left[y_{i}\\right]\\mathbb{E}_{\\mathbf{y}}\\left[\\hat{y}_{i}\\right]\\right)\\\\\n",
    " & =\\frac{2}{N}\\sum_{i=1}^{N}\\mbox{Cov}\\left(y_{i},\\hat{y}_{i}\\right).\n",
    "\\end{align*}\n"
   ]
  }
 ],
 "metadata": {
  "kernelspec": {
   "display_name": "Python 3",
   "language": "python",
   "name": "python3"
  },
  "language_info": {
   "codemirror_mode": {
    "name": "ipython",
    "version": 3
   },
   "file_extension": ".py",
   "mimetype": "text/x-python",
   "name": "python",
   "nbconvert_exporter": "python",
   "pygments_lexer": "ipython3",
   "version": "3.5.1"
  }
 },
 "nbformat": 4,
 "nbformat_minor": 0
}
